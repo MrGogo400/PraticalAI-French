{
 "cells": [
  {
   "cell_type": "markdown",
   "metadata": {
    "colab_type": "text",
    "id": "pY8iWjayaC22"
   },
   "source": [
    "<img src=\"https://raw.githubusercontent.com/practicalAI/images/master/images/01_Python/python.png\" width=\"250\" vspace=\"30px\" align=\"right\">\n",
    "\n",
    "<div align=\"left\">\n",
    "<h1>Introduction à Python (Cheat Sheet)</h1>\n",
    "\n",
    "Dans cette leçon, nous allons apprendre les bases du langage de programmation Python. Nous n'apprendrons pas tout, mais suffisamment pour du Machine Learning de base. Nous continuerons à en apprendre davantage dans les prochaines leçons!\n",
    "</div>"
   ]
  },
  {
   "cell_type": "markdown",
   "metadata": {
    "colab_type": "text",
    "id": "VoMq0eFRvugb"
   },
   "source": [
    "#  Variables"
   ]
  },
  {
   "cell_type": "markdown",
   "metadata": {
    "colab_type": "text",
    "id": "qWro5T5qTJJL"
   },
   "source": [
    "Les variables sont (en gros) des conteneurs pour stocker des données. Elles sont définies par un nom et une valeur. En python le typage des variables sont [dynamique](https://fr.wikibooks.org/wiki/Programmation_Python/Types).\n",
    "\n",
    "<div align=\"left\">\n",
    "<img src=\"https://raw.githubusercontent.com/practicalAI/images/master/images/01_Python/variables.png\" width=\"220\">\n",
    "</div>"
   ]
  },
  {
   "cell_type": "code",
   "execution_count": 20,
   "metadata": {
    "colab": {
     "base_uri": "https://localhost:8080/",
     "height": 52
    },
    "colab_type": "code",
    "id": "0-dXQiLlTIgz",
    "outputId": "634f1827-ba53-4e72-d2f1-c6f8d8a2f358"
   },
   "outputs": [
    {
     "name": "stdout",
     "output_type": "stream",
     "text": [
      "5\n",
      "<class 'int'>\n"
     ]
    }
   ],
   "source": [
    "# Integer variable\n",
    "x = 5\n",
    "print (x)\n",
    "print (type(x))\n"
   ]
  },
  {
   "cell_type": "markdown",
   "metadata": {
    "colab_type": "text",
    "id": "LDAdgPSCyMbN"
   },
   "source": [
    "Nous pouvons changer la valeur d'une variable en lui affectant une nouvelle valeur."
   ]
  },
  {
   "cell_type": "code",
   "execution_count": 21,
   "metadata": {
    "colab": {
     "base_uri": "https://localhost:8080/",
     "height": 52
    },
    "colab_type": "code",
    "id": "5Ym0owFxTkjo",
    "outputId": "6636d6ba-ee7b-4925-a4a8-cbbc5d14dc2d"
   },
   "outputs": [
    {
     "name": "stdout",
     "output_type": "stream",
     "text": [
      "hello\n",
      "<class 'str'>\n"
     ]
    }
   ],
   "source": [
    "# String variable\n",
    "x = \"hello\"\n",
    "print (x)\n",
    "print (type(x))"
   ]
  },
  {
   "cell_type": "markdown",
   "metadata": {
    "colab_type": "text",
    "id": "Lsq_c_AhEzZN"
   },
   "source": [
    "Il existe de nombreux types de variables: integers, floats, strings, boolean etc."
   ]
  },
  {
   "cell_type": "code",
   "execution_count": 22,
   "metadata": {
    "colab": {
     "base_uri": "https://localhost:8080/",
     "height": 35
    },
    "colab_type": "code",
    "id": "m4kAmbD9EzHz",
    "outputId": "0a1a7cd8-252e-4066-d3c0-fb9fd9f7fa8f"
   },
   "outputs": [
    {
     "name": "stdout",
     "output_type": "stream",
     "text": [
      "5 <class 'int'>\n"
     ]
    }
   ],
   "source": [
    "# int variable\n",
    "x = 5\n",
    "print (x, type(x))"
   ]
  },
  {
   "cell_type": "code",
   "execution_count": 23,
   "metadata": {
    "colab": {
     "base_uri": "https://localhost:8080/",
     "height": 35
    },
    "colab_type": "code",
    "id": "gb9BzIoOEy6A",
    "outputId": "34ecf213-ef0f-47ca-b074-78ee393dc713"
   },
   "outputs": [
    {
     "name": "stdout",
     "output_type": "stream",
     "text": [
      "5.0 <class 'float'>\n"
     ]
    }
   ],
   "source": [
    "# float variable\n",
    "x = 5.0\n",
    "print (x, type(x))"
   ]
  },
  {
   "cell_type": "code",
   "execution_count": 24,
   "metadata": {
    "colab": {
     "base_uri": "https://localhost:8080/",
     "height": 35
    },
    "colab_type": "code",
    "id": "RkqP-eraEytN",
    "outputId": "71720fb7-4ca6-44da-dbc1-05f45076e14a"
   },
   "outputs": [
    {
     "name": "stdout",
     "output_type": "stream",
     "text": [
      "5 <class 'str'>\n"
     ]
    }
   ],
   "source": [
    "# text variable\n",
    "x = \"5\" \n",
    "print (x, type(x))"
   ]
  },
  {
   "cell_type": "code",
   "execution_count": 25,
   "metadata": {
    "colab": {
     "base_uri": "https://localhost:8080/",
     "height": 35
    },
    "colab_type": "code",
    "id": "ws4HSsJpEyfL",
    "outputId": "5ca15ad7-158f-44f0-c753-ceeb23c81fad"
   },
   "outputs": [
    {
     "name": "stdout",
     "output_type": "stream",
     "text": [
      "True <class 'bool'>\n"
     ]
    }
   ],
   "source": [
    "# boolean variable\n",
    "x = True\n",
    "print (x, type(x))"
   ]
  },
  {
   "cell_type": "markdown",
   "metadata": {
    "colab_type": "text",
    "id": "EWOmrbiDybhF"
   },
   "source": [
    "Nous pouvons également faire des opérations avec des variables."
   ]
  },
  {
   "cell_type": "code",
   "execution_count": 26,
   "metadata": {
    "colab": {
     "base_uri": "https://localhost:8080/",
     "height": 35
    },
    "colab_type": "code",
    "id": "1a4ZhMV1T1-0",
    "outputId": "a0021c88-f282-4185-8114-e497d0d69ec1",
    "scrolled": true
   },
   "outputs": [
    {
     "name": "stdout",
     "output_type": "stream",
     "text": [
      "3\n"
     ]
    }
   ],
   "source": [
    "# Les variables peuvent être utilisées les unes avec les autres\n",
    "a = 1\n",
    "b = 2\n",
    "c = a + b\n",
    "print (c)"
   ]
  },
  {
   "cell_type": "markdown",
   "metadata": {
    "colab_type": "text",
    "id": "6HPtavfdU8Ut"
   },
   "source": [
    "Nous devrions toujour savoir à quels types de variables nous avons affaire afin de pouvoir faire les bonnes opérations avec elles. Voici une erreur commune qui peut arriver si nous utilisons le mauvais type de variable."
   ]
  },
  {
   "cell_type": "code",
   "execution_count": 27,
   "metadata": {
    "colab": {
     "base_uri": "https://localhost:8080/",
     "height": 35
    },
    "colab_type": "code",
    "id": "8pr1-i7IVD-h",
    "outputId": "3a4a3456-8631-4840-b31e-99ff2f9a9dfc"
   },
   "outputs": [
    {
     "name": "stdout",
     "output_type": "stream",
     "text": [
      "8\n"
     ]
    }
   ],
   "source": [
    "# int variables\n",
    "a = 5\n",
    "b = 3\n",
    "print (a + b)"
   ]
  },
  {
   "cell_type": "code",
   "execution_count": 28,
   "metadata": {
    "colab": {
     "base_uri": "https://localhost:8080/",
     "height": 35
    },
    "colab_type": "code",
    "id": "A9u0Mtke5xkk",
    "outputId": "33a2e8bd-6a3e-4e39-a578-0d57040c8ab9"
   },
   "outputs": [
    {
     "name": "stdout",
     "output_type": "stream",
     "text": [
      "53\n"
     ]
    }
   ],
   "source": [
    "# string variables\n",
    "a = \"5\"\n",
    "b = \"3\"\n",
    "print (a + b)"
   ]
  },
  {
   "cell_type": "markdown",
   "metadata": {
    "colab_type": "text",
    "id": "q4R_UF6PVw4V"
   },
   "source": [
    "#  Lists"
   ]
  },
  {
   "cell_type": "markdown",
   "metadata": {
    "colab_type": "text",
    "id": "LvGsQBj4VjMl"
   },
   "source": [
    "Les listes sont une collection de valeurs ordonnées et modifiables. Celle ci sont *séparées par des virgules* et entourées de *crochets*. Une liste peut être composée de plusieurs types de variable (ci-dessous une liste avec un int, une string et un float).\n",
    "\n",
    "<div align=\"left\">\n",
    "<img src=\"https://raw.githubusercontent.com/practicalAI/images/master/images/01_Python/lists.png\" width=\"300\">\n",
    "</div>"
   ]
  },
  {
   "cell_type": "code",
   "execution_count": 29,
   "metadata": {
    "colab": {
     "base_uri": "https://localhost:8080/",
     "height": 35
    },
    "colab_type": "code",
    "id": "9iPESkq9VvlX",
    "outputId": "ee0ce725-d0b5-4103-d96f-f1c522072fd0"
   },
   "outputs": [
    {
     "name": "stdout",
     "output_type": "stream",
     "text": [
      "[3, 'hello', 1.2]\n"
     ]
    }
   ],
   "source": [
    "# Création d'une \"list\"\n",
    "x = [3, \"hello\", 1.2]\n",
    "print (x)"
   ]
  },
  {
   "cell_type": "code",
   "execution_count": 30,
   "metadata": {
    "colab": {
     "base_uri": "https://localhost:8080/",
     "height": 35
    },
    "colab_type": "code",
    "id": "esDwOfutKtBf",
    "outputId": "443cfb36-3e19-4364-bb25-b36762818429"
   },
   "outputs": [
    {
     "data": {
      "text/plain": [
       "3"
      ]
     },
     "execution_count": 30,
     "metadata": {},
     "output_type": "execute_result"
    }
   ],
   "source": [
    "# Longueur de la \"list\"\n",
    "len(x)"
   ]
  },
  {
   "cell_type": "markdown",
   "metadata": {
    "colab_type": "text",
    "id": "0xC6WvuwbGDg"
   },
   "source": [
    "\n",
    "Vous pouvez ajouter des éléments à une liste à l’aide de la fonction **append**."
   ]
  },
  {
   "cell_type": "code",
   "execution_count": 31,
   "metadata": {
    "colab": {
     "base_uri": "https://localhost:8080/",
     "height": 52
    },
    "colab_type": "code",
    "id": "7lbajc-zV515",
    "outputId": "9ff09e6e-728b-413b-c1ae-91531a325402"
   },
   "outputs": [
    {
     "name": "stdout",
     "output_type": "stream",
     "text": [
      "[3, 'hello', 1.2, 7]\n",
      "4\n"
     ]
    }
   ],
   "source": [
    "# Ajout dans une \"list\"\n",
    "x.append(7)\n",
    "print (x)\n",
    "print (len(x))"
   ]
  },
  {
   "cell_type": "code",
   "execution_count": 32,
   "metadata": {
    "colab": {
     "base_uri": "https://localhost:8080/",
     "height": 35
    },
    "colab_type": "code",
    "id": "TjVjmiSIK1YA",
    "outputId": "9f49bf83-99d5-4be2-b4e3-a9da7a54b7f9"
   },
   "outputs": [
    {
     "name": "stdout",
     "output_type": "stream",
     "text": [
      "[3, 'bye', 1.2, 7]\n"
     ]
    }
   ],
   "source": [
    "# Remplacement d'éléments dans une \"list\"\n",
    "x[1] = \"bye\"\n",
    "print (x)"
   ]
  },
  {
   "cell_type": "code",
   "execution_count": 33,
   "metadata": {
    "colab": {
     "base_uri": "https://localhost:8080/",
     "height": 35
    },
    "colab_type": "code",
    "id": "tNLaysG6K6E9",
    "outputId": "4abf451e-3d95-4383-b86b-711122d73253"
   },
   "outputs": [
    {
     "name": "stdout",
     "output_type": "stream",
     "text": [
      "[3, 'bye', 1.2, 7, 2.4, 'world']\n"
     ]
    }
   ],
   "source": [
    "# Des opérations\n",
    "y = [2.4, \"world\"]\n",
    "z = x + y\n",
    "print (z)"
   ]
  },
  {
   "cell_type": "markdown",
   "metadata": {
    "colab_type": "text",
    "id": "M7mQpE7dtpX6"
   },
   "source": [
    "### Indexation et le Slicing"
   ]
  },
  {
   "cell_type": "markdown",
   "metadata": {
    "colab_type": "text",
    "id": "wJqJM2Q13TwE"
   },
   "source": [
    "L'indexation et le Slicing à partir de listes nous permettent de récupérer des valeurs spécifiques dans les listes. Notez que les indices peuvent être positifs (à partir de 0) ou négatifs (-1 et inférieur, -1 étant le dernier élément de la liste).\n",
    "\n",
    "<div align=\"left\">\n",
    "<img src=\"https://raw.githubusercontent.com/practicalAI/images/master/images/01_Python/indexing.png\" width=\"300\">\n",
    "</div>"
   ]
  },
  {
   "cell_type": "code",
   "execution_count": 34,
   "metadata": {
    "colab": {
     "base_uri": "https://localhost:8080/",
     "height": 86
    },
    "colab_type": "code",
    "id": "W0xpIryJWCN9",
    "outputId": "bf249ace-f0b5-4c61-bf54-90509069b37b"
   },
   "outputs": [
    {
     "name": "stdout",
     "output_type": "stream",
     "text": [
      "x[0]:  3\n",
      "x[1]:  bye\n",
      "x[-1]:  7\n",
      "x[-2]:  1.2\n"
     ]
    }
   ],
   "source": [
    "# Indexation\n",
    "print (\"x[0]: \", x[0])\n",
    "print (\"x[1]: \", x[1])\n",
    "print (\"x[-1]: \", x[-1]) # Le dernier élément \n",
    "print (\"x[-2]: \", x[-2]) # l'avant-dernier élément"
   ]
  },
  {
   "cell_type": "code",
   "execution_count": 35,
   "metadata": {
    "colab": {
     "base_uri": "https://localhost:8080/",
     "height": 86
    },
    "colab_type": "code",
    "id": "VSu_HNrnc1WK",
    "outputId": "82fffb8a-fdb1-426f-e3ee-4c2caadc2284"
   },
   "outputs": [
    {
     "name": "stdout",
     "output_type": "stream",
     "text": [
      "x[:]:  [3, 'bye', 1.2, 7]\n",
      "x[2:]:  [1.2, 7]\n",
      "x[1:3]:  ['bye', 1.2]\n",
      "x[:-2]:  [3, 'bye']\n"
     ]
    }
   ],
   "source": [
    "# Slicing\n",
    "print (\"x[:]: \", x[:]) # : = à la fin\n",
    "print (\"x[2:]: \", x[2:]) # 2ème index à la fin\n",
    "print (\"x[1:3]: \", x[1:3]) # Du 1er index au 3ème index mais incluant le 3ème index\n",
    "print (\"x[:-2]: \", x[:-2]) # Du \"0ème\" index à deux a partir du dernier index"
   ]
  },
  {
   "cell_type": "markdown",
   "metadata": {
    "colab_type": "text",
    "id": "ddpIO6LLVzh0"
   },
   "source": [
    "# Tuples"
   ]
  },
  {
   "cell_type": "markdown",
   "metadata": {
    "colab_type": "text",
    "id": "CAZblq7oXY3s"
   },
   "source": [
    "Les tuples sont des collections ordonnées et immuables (non modifiables). Vous les utiliserez pour stocker des valeurs qui ne seront jamais modifiées."
   ]
  },
  {
   "cell_type": "code",
   "execution_count": 36,
   "metadata": {
    "colab": {
     "base_uri": "https://localhost:8080/",
     "height": 35
    },
    "colab_type": "code",
    "id": "G95lu8xWXY90",
    "outputId": "990b1620-39b4-493e-dffa-3bcec8d4ff00"
   },
   "outputs": [
    {
     "name": "stdout",
     "output_type": "stream",
     "text": [
      "(3.0, 'hello')\n"
     ]
    }
   ],
   "source": [
    "# Création d'un tuple\n",
    "x = (3.0, \"hello\") # les tuples commencent et finissent par ()\n",
    "print (x)"
   ]
  },
  {
   "cell_type": "code",
   "execution_count": 37,
   "metadata": {
    "colab": {
     "base_uri": "https://localhost:8080/",
     "height": 35
    },
    "colab_type": "code",
    "id": "kq23Bej1acAP",
    "outputId": "9f21e417-cc79-4af9-9bed-9563799a180a"
   },
   "outputs": [
    {
     "name": "stdout",
     "output_type": "stream",
     "text": [
      "(3.0, 'hello', 5.6, 4)\n"
     ]
    }
   ],
   "source": [
    "# Ajout de valeurs à un tuple\n",
    "x = x + (5.6, 4)\n",
    "print (x)"
   ]
  },
  {
   "cell_type": "code",
   "execution_count": 38,
   "metadata": {
    "colab": {
     "base_uri": "https://localhost:8080/",
     "height": 165
    },
    "colab_type": "code",
    "id": "-o-tW98FLffc",
    "outputId": "51ae09a8-9d98-486c-bc04-d7c27a4f55f4"
   },
   "outputs": [
    {
     "ename": "TypeError",
     "evalue": "'tuple' object does not support item assignment",
     "output_type": "error",
     "traceback": [
      "\u001b[1;31m---------------------------------------------------------------------------\u001b[0m",
      "\u001b[1;31mTypeError\u001b[0m                                 Traceback (most recent call last)",
      "\u001b[1;32m<ipython-input-38-46eda9a7cd79>\u001b[0m in \u001b[0;36m<module>\u001b[1;34m\u001b[0m\n\u001b[0;32m      1\u001b[0m \u001b[1;31m# Essayez de changer les valeurs (cela ne fonctionnera pas et vous obtiendrez une erreur)\u001b[0m\u001b[1;33m\u001b[0m\u001b[1;33m\u001b[0m\u001b[1;33m\u001b[0m\u001b[0m\n\u001b[1;32m----> 2\u001b[1;33m \u001b[0mx\u001b[0m\u001b[1;33m[\u001b[0m\u001b[1;36m0\u001b[0m\u001b[1;33m]\u001b[0m \u001b[1;33m=\u001b[0m \u001b[1;36m1.2\u001b[0m\u001b[1;33m\u001b[0m\u001b[1;33m\u001b[0m\u001b[0m\n\u001b[0m",
      "\u001b[1;31mTypeError\u001b[0m: 'tuple' object does not support item assignment"
     ]
    }
   ],
   "source": [
    "# Essayez de changer les valeurs (cela ne fonctionnera pas et vous obtiendrez une erreur)\n",
    "x[0] = 1.2"
   ]
  },
  {
   "cell_type": "markdown",
   "metadata": {
    "colab_type": "text",
    "id": "UdlJHkwZV3Mz"
   },
   "source": [
    "# Dictionnaires"
   ]
  },
  {
   "cell_type": "markdown",
   "metadata": {
    "colab_type": "text",
    "id": "azp3AoxYXS26"
   },
   "source": [
    "Les dictionnaires sont des collections non ordonnées, modifiables et indexées de paires clé-valeur. Vous pouvez récupérer des valeurs basées sur la clé et un dictionnaire ne peut pas avoir deux clés identiques.\n",
    "\n",
    "<div align=\"left\">\n",
    "<img src=\"https://raw.githubusercontent.com/practicalAI/images/master/images/01_Python/dictionaries.png\" width=\"320\">\n",
    "</div>"
   ]
  },
  {
   "cell_type": "code",
   "execution_count": 39,
   "metadata": {
    "colab": {
     "base_uri": "https://localhost:8080/",
     "height": 69
    },
    "colab_type": "code",
    "id": "pXhNLbzpXXSk",
    "outputId": "b62498ee-f5a0-4018-a15f-ba789a570a91"
   },
   "outputs": [
    {
     "name": "stdout",
     "output_type": "stream",
     "text": [
      "{'name': 'Goku', 'eye_color': 'brown'}\n",
      "Goku\n",
      "brown\n"
     ]
    }
   ],
   "source": [
    "# Création d'un dictionnaire\n",
    "person = {'name': 'Goku',\n",
    "          'eye_color': 'brown'}\n",
    "print (person)\n",
    "print (person['name'])\n",
    "print (person['eye_color'])"
   ]
  },
  {
   "cell_type": "code",
   "execution_count": 40,
   "metadata": {
    "colab": {
     "base_uri": "https://localhost:8080/",
     "height": 35
    },
    "colab_type": "code",
    "id": "1HXtX8vQYjXa",
    "outputId": "9c338c59-d78c-4411-a678-321df8e0aed2"
   },
   "outputs": [
    {
     "name": "stdout",
     "output_type": "stream",
     "text": [
      "{'name': 'Goku', 'eye_color': 'green'}\n"
     ]
    }
   ],
   "source": [
    "# Changer la valeur d'une clé\n",
    "person['eye_color'] = 'green'\n",
    "print (person)"
   ]
  },
  {
   "cell_type": "code",
   "execution_count": 41,
   "metadata": {
    "colab": {
     "base_uri": "https://localhost:8080/",
     "height": 35
    },
    "colab_type": "code",
    "id": "qn33iB0MY5dT",
    "outputId": "2a0ed258-97c2-4302-c181-86713c5f7188"
   },
   "outputs": [
    {
     "name": "stdout",
     "output_type": "stream",
     "text": [
      "{'name': 'Goku', 'eye_color': 'green', 'age': 24}\n"
     ]
    }
   ],
   "source": [
    "# Ajout de nouvelles paires clé-valeur\n",
    "person['age'] = 24\n",
    "print (person)"
   ]
  },
  {
   "cell_type": "code",
   "execution_count": 42,
   "metadata": {
    "colab": {
     "base_uri": "https://localhost:8080/",
     "height": 35
    },
    "colab_type": "code",
    "id": "g9EYmzMKa9YV",
    "outputId": "a345b728-f850-46d4-d79f-36ddf73921a9"
   },
   "outputs": [
    {
     "name": "stdout",
     "output_type": "stream",
     "text": [
      "3\n"
     ]
    }
   ],
   "source": [
    "# Longueur d'un dictionnaire\n",
    "print (len(person))"
   ]
  },
  {
   "cell_type": "markdown",
   "metadata": {
    "colab_type": "text",
    "id": "B-DInx_Xo2vJ"
   },
   "source": [
    "# Condition IF"
   ]
  },
  {
   "cell_type": "markdown",
   "metadata": {
    "colab_type": "text",
    "id": "ZG_ICGRGo4tY"
   },
   "source": [
    "Nous pouvons utiliser les déclarations `if` pour conditionnellement faire quelque chose. Les conditions sont définis par les mots `if`, `elif` (qui signifie else if) et `else`. On peut avoir autant de déclarations `elif` que nous voulons. Le code sous chaque condition est le code qui sera exécuté si la condition est `True`.\n",
    "\n",
    "<div align=\"left\">\n",
    "<img src=\"https://raw.githubusercontent.com/practicalAI/images/master/images/01_Python/if.png\" width=\"600\">\n",
    "</div>"
   ]
  },
  {
   "cell_type": "code",
   "execution_count": 43,
   "metadata": {
    "colab": {
     "base_uri": "https://localhost:8080/",
     "height": 35
    },
    "colab_type": "code",
    "id": "uob9lQuKo4Pg",
    "outputId": "bbaba8cd-29fd-4ddb-a2f4-414416b78693"
   },
   "outputs": [
    {
     "name": "stdout",
     "output_type": "stream",
     "text": [
      "medium\n"
     ]
    }
   ],
   "source": [
    "# Condition IF\n",
    "x = 4\n",
    "if x < 1:\n",
    "    score = 'low'\n",
    "elif x <= 4: # elif = else if\n",
    "    score = 'medium'\n",
    "else:\n",
    "    score = 'high'\n",
    "print (score)"
   ]
  },
  {
   "cell_type": "code",
   "execution_count": 44,
   "metadata": {
    "colab": {
     "base_uri": "https://localhost:8080/",
     "height": 35
    },
    "colab_type": "code",
    "id": "vwsQaZqIpfJ3",
    "outputId": "42a1114e-ca9b-40a3-a628-11dc1aa04d89"
   },
   "outputs": [
    {
     "name": "stdout",
     "output_type": "stream",
     "text": [
      "it worked\n"
     ]
    }
   ],
   "source": [
    "# Condition IF avec un booléen\n",
    "x = True\n",
    "if x:\n",
    "    print (\"it worked\")"
   ]
  },
  {
   "cell_type": "markdown",
   "metadata": {
    "colab_type": "text",
    "id": "sJ7NPGEKV6Ik"
   },
   "source": [
    "# Les boucles"
   ]
  },
  {
   "cell_type": "markdown",
   "metadata": {
    "colab_type": "text",
    "id": "cRgqRyfITuEC"
   },
   "source": [
    "### Boucle FOR"
   ]
  },
  {
   "cell_type": "markdown",
   "metadata": {
    "colab_type": "text",
    "id": "YRVxhVCkn0vc"
   },
   "source": [
    "Une boucle `for` peut parcourir une collection de valeurs (listes, tuples, dictionnaires, etc.). Le code est exécuté pour chaque élément de la collection de valeurs. Il est possible de faire une boucle FOR avec `range()` pour donner un intervalle à votre boucle."
   ]
  },
  {
   "cell_type": "code",
   "execution_count": 45,
   "metadata": {
    "colab": {
     "base_uri": "https://localhost:8080/",
     "height": 69
    },
    "colab_type": "code",
    "id": "OB5PtyqAn8mj",
    "outputId": "87d7d90c-cfd1-450d-fe8c-14058ebfeabb"
   },
   "outputs": [
    {
     "name": "stdout",
     "output_type": "stream",
     "text": [
      "carrots\n",
      "broccoli\n",
      "beans\n"
     ]
    }
   ],
   "source": [
    "# Boucle FOR\n",
    "veggies = [\"carrots\", \"broccoli\", \"beans\"]\n",
    "for veggie in veggies:\n",
    "    print (veggie)"
   ]
  },
  {
   "cell_type": "markdown",
   "metadata": {
    "colab_type": "text",
    "id": "PQc56LtEDuX2"
   },
   "source": [
    "Lorsque la boucle rencontre la commande `break`, elle se termine immédiatement. S'il y avait plus d'éléments dans la liste, ils ne seront pas traités."
   ]
  },
  {
   "cell_type": "code",
   "execution_count": 46,
   "metadata": {
    "colab": {
     "base_uri": "https://localhost:8080/",
     "height": 35
    },
    "colab_type": "code",
    "id": "6XyhCrFeoGj4",
    "outputId": "1593f9c7-9570-49f1-f1cf-e36e61cf876d"
   },
   "outputs": [
    {
     "name": "stdout",
     "output_type": "stream",
     "text": [
      "carrots\n"
     ]
    }
   ],
   "source": [
    "# `break` d'une boucle for\n",
    "veggies = [\"carrots\", \"broccoli\", \"beans\"]\n",
    "for veggie in veggies:\n",
    "    if veggie == \"broccoli\":\n",
    "        break\n",
    "    print (veggie)"
   ]
  },
  {
   "cell_type": "markdown",
   "metadata": {
    "colab_type": "text",
    "id": "O_0-vSSuEAqU"
   },
   "source": [
    "Lorsque la boucle rencontre la commande `continue`, elle ignorera uniquement toutes les autres opérations pour cet élément de la liste. S'il y a plus d'éléments dans la liste, la boucle se poursuivra normalement."
   ]
  },
  {
   "cell_type": "code",
   "execution_count": 47,
   "metadata": {
    "colab": {
     "base_uri": "https://localhost:8080/",
     "height": 52
    },
    "colab_type": "code",
    "id": "KJvlfYs8QbQZ",
    "outputId": "1a6ee19d-ab54-4e96-f47c-0464578add17"
   },
   "outputs": [
    {
     "name": "stdout",
     "output_type": "stream",
     "text": [
      "carrots\n",
      "beans\n"
     ]
    }
   ],
   "source": [
    "# `continue` à la prochaine itération\n",
    "veggies = [\"carrots\", \"broccoli\", \"beans\"]\n",
    "for veggie in veggies:\n",
    "    if veggie == \"broccoli\":\n",
    "        continue\n",
    "    print (veggie)"
   ]
  },
  {
   "cell_type": "markdown",
   "metadata": {
    "colab_type": "text",
    "id": "VAbnASi2TwZ9"
   },
   "source": [
    "### Boucle WHILE"
   ]
  },
  {
   "cell_type": "markdown",
   "metadata": {
    "colab_type": "text",
    "id": "nuHAyQdr_jUa"
   },
   "source": [
    "Une boucle `while` peut être répétée tant que la condition est `True`. Nous pouvons également utiliser les commandes `continue` et `break` dans les boucles `while`."
   ]
  },
  {
   "cell_type": "code",
   "execution_count": 48,
   "metadata": {
    "colab": {
     "base_uri": "https://localhost:8080/",
     "height": 69
    },
    "colab_type": "code",
    "id": "5Tf2x4okp3fH",
    "outputId": "665de608-8bc4-48ad-84bb-e83285b2331e"
   },
   "outputs": [
    {
     "name": "stdout",
     "output_type": "stream",
     "text": [
      "2\n",
      "1\n",
      "0\n"
     ]
    }
   ],
   "source": [
    "# Boucle WHILE\n",
    "x = 3\n",
    "while x > 0:\n",
    "    x -= 1 # same as x = x - 1\n",
    "    print (x)"
   ]
  },
  {
   "cell_type": "markdown",
   "metadata": {
    "colab_type": "text",
    "id": "gJw-EDO9WBL_"
   },
   "source": [
    "# Fonctions"
   ]
  },
  {
   "cell_type": "markdown",
   "metadata": {
    "colab_type": "text",
    "id": "hDIOUdWCqBwa"
   },
   "source": [
    "Une fonction (ou function) est une suite d'instructions que l'on peut appeler avec un nom. Elles sont définies par le mot clé `def` et elles peuvent comporter les composants suivants :\n",
    "\n",
    "\n",
    "<div align=\"left\">\n",
    "<img src=\"https://raw.githubusercontent.com/practicalAI/images/master/images/01_Python/define_function.png\" width=\"350\">\n",
    "</div>"
   ]
  },
  {
   "cell_type": "code",
   "execution_count": 49,
   "metadata": {
    "colab": {},
    "colab_type": "code",
    "id": "iin1ZXmMqA0y"
   },
   "outputs": [],
   "source": [
    "# Définir la fonction\n",
    "def add_two(x):\n",
    "    \"\"\"Increase x by 2.\"\"\" # Explique ce que cette fonction fera\n",
    "    x += 2\n",
    "    return x"
   ]
  },
  {
   "cell_type": "markdown",
   "metadata": {
    "colab_type": "text",
    "id": "OIf2dJ8RGj8l"
   },
   "source": [
    "Voici les composants qui peuvent être nécessaires lorsque nous voulons utiliser la fonction.\n",
    "Nous devons nous assurer que le nom de la fonction et les paramètres d'entrée correspondent à la façon dont nous avons défini la fonction ci-dessus.\n",
    "\n",
    "<div align=\"left\">\n",
    "<img src=\"https://raw.githubusercontent.com/practicalAI/images/master/images/01_Python/use_function.png\" width=\"350\">\n",
    "</div>"
   ]
  },
  {
   "cell_type": "code",
   "execution_count": 50,
   "metadata": {
    "colab": {
     "base_uri": "https://localhost:8080/",
     "height": 35
    },
    "colab_type": "code",
    "id": "4ye1A5FobAUd",
    "outputId": "7a063f63-f626-4cab-e199-f4331c88859c"
   },
   "outputs": [
    {
     "name": "stdout",
     "output_type": "stream",
     "text": [
      "2\n"
     ]
    }
   ],
   "source": [
    "# Utilisez la fonction\n",
    "score = 0\n",
    "new_score = add_two(x=score)\n",
    "print (new_score)"
   ]
  },
  {
   "cell_type": "markdown",
   "metadata": {
    "colab_type": "text",
    "id": "5kpEiTUZqMax"
   },
   "source": [
    "Une fonction peut avoir autant de paramètres d'entrée et de sortie que nous le souhaitons."
   ]
  },
  {
   "cell_type": "code",
   "execution_count": 51,
   "metadata": {
    "colab": {},
    "colab_type": "code",
    "id": "DC6x3DMrqlE3"
   },
   "outputs": [],
   "source": [
    "# Fonction avec plusieurs entrées\n",
    "def join_name(first_name, middle_name, last_name):\n",
    "    \"\"\"Combine first name, middle_name and last name.\"\"\"\n",
    "    joined_name = first_name + middle_name + last_name\n",
    "    return joined_name"
   ]
  },
  {
   "cell_type": "code",
   "execution_count": 52,
   "metadata": {
    "colab": {
     "base_uri": "https://localhost:8080/",
     "height": 35
    },
    "colab_type": "code",
    "id": "ehc8bNoGbBt8",
    "outputId": "3ceac0f7-f998-44d2-e929-b5114b785f78"
   },
   "outputs": [
    {
     "name": "stdout",
     "output_type": "stream",
     "text": [
      "AwayFromNetwork\n"
     ]
    }
   ],
   "source": [
    "# Utilisez la fonction\n",
    "first_name = \"Away\"\n",
    "middle_name = \"From\"\n",
    "last_name = \"Network\"\n",
    "joined_name = join_name(first_name=first_name, \n",
    "                        middle_name=middle_name,\n",
    "                        last_name=last_name,)\n",
    "print (joined_name)"
   ]
  },
  {
   "cell_type": "markdown",
   "metadata": {
    "colab_type": "text",
    "id": "x3_7Qv91Gjua"
   },
   "source": [
    "<div align=\"left\">\n",
    "<img src=\"https://raw.githubusercontent.com/practicalAI/images/master/images/lightbulb.gif\" width=\"45px\" align=\"left\" hspace=\"10px\">\n",
    "</div>\n",
    "\n",
    "Il est recommandé de toujours utiliser un argument nommé lors de l'utilisation d'une fonction, de manière à indiquer clairement quelle variable d'entrée appartient à quel paramètre d'entrée de fonction. Sur une remarque liée, vous verrez souvent les termes ***args** et ****kwargs** qui désignent des arguments et des arguments de mots clés. Vous pouvez les extraire quand ils sont passés dans une fonction. La signification de * est que n'importe quel nombre d'arguments et d'arguments de mots clés peut être passé à la fonction."
   ]
  },
  {
   "cell_type": "code",
   "execution_count": 53,
   "metadata": {
    "colab": {},
    "colab_type": "code",
    "id": "XHhaCfFaHSVo"
   },
   "outputs": [],
   "source": [
    "def f(*args, **kwargs):\n",
    "    x = args[0]\n",
    "    y = kwargs.get('y')\n",
    "    print (f\"x: {x}, y: {y}\")"
   ]
  },
  {
   "cell_type": "code",
   "execution_count": 54,
   "metadata": {
    "colab": {
     "base_uri": "https://localhost:8080/",
     "height": 35
    },
    "colab_type": "code",
    "id": "ZRB9msy0HmR_",
    "outputId": "0ece21b0-2aff-4b7b-f047-fad80546706e"
   },
   "outputs": [
    {
     "name": "stdout",
     "output_type": "stream",
     "text": [
      "x: 5, y: 2\n"
     ]
    }
   ],
   "source": [
    "f(5, y=2)"
   ]
  },
  {
   "cell_type": "markdown",
   "metadata": {
    "colab_type": "text",
    "id": "lBLa1n54WEd2"
   },
   "source": [
    "# Les Classes"
   ]
  },
  {
   "cell_type": "markdown",
   "metadata": {
    "colab_type": "text",
    "id": "mGua8QnArAZh"
   },
   "source": [
    "Les classes sont des constructeurs d'objets et constituent un composant fondamental de la programmation orientée objet en Python. Elles sont composés d'un ensemble de fonctions appelées méthode et de variables appelées propriétés qui définissent la classe et ses opérations.\n",
    "\n",
    "<div align=\"left\">\n",
    "<img src=\"https://raw.githubusercontent.com/practicalAI/images/master/images/01_Python/classes.png\" width=\"500\">\n",
    "</div>"
   ]
  },
  {
   "cell_type": "markdown",
   "metadata": {
    "colab_type": "text",
    "id": "CypuBBQyRv8s"
   },
   "source": [
    "### Fonction `__init__()`"
   ]
  },
  {
   "cell_type": "markdown",
   "metadata": {
    "colab_type": "text",
    "id": "Hrx2bKTXR4E3"
   },
   "source": [
    "La fonction `init` est utilisée lorsqu'une instance de la classe est initialisée."
   ]
  },
  {
   "cell_type": "code",
   "execution_count": 55,
   "metadata": {
    "colab": {},
    "colab_type": "code",
    "id": "DXmPwI1frAAd"
   },
   "outputs": [],
   "source": [
    "# Création de la classe\n",
    "class Pet(object):\n",
    "    \"\"\"Class object for a pet.\"\"\"\n",
    "  \n",
    "    def __init__(self, species, name):\n",
    "        \"\"\"Initialize a Pet.\"\"\"\n",
    "        self.species = species\n",
    "        self.name = name"
   ]
  },
  {
   "cell_type": "code",
   "execution_count": 56,
   "metadata": {
    "colab": {
     "base_uri": "https://localhost:8080/",
     "height": 52
    },
    "colab_type": "code",
    "id": "j5F4XmFQSfVr",
    "outputId": "2f365501-1c20-4db4-cea9-27ed4a46cce8"
   },
   "outputs": [
    {
     "name": "stdout",
     "output_type": "stream",
     "text": [
      "<__main__.Pet object at 0x00000201019E6F48>\n",
      "Scooby\n"
     ]
    }
   ],
   "source": [
    "# Création d'une instance d'une classe\n",
    "my_dog = Pet(species=\"dog\", \n",
    "             name=\"Scooby\")\n",
    "print (my_dog)\n",
    "print (my_dog.name)"
   ]
  },
  {
   "cell_type": "markdown",
   "metadata": {
    "colab_type": "text",
    "id": "6ZVfBXNISUBR"
   },
   "source": [
    "### Fonction `__str()__`"
   ]
  },
  {
   "cell_type": "markdown",
   "metadata": {
    "colab_type": "text",
    "id": "8q6oiWHQSqOo"
   },
   "source": [
    "La commande `print (my_dog)` a imprimé quelque chose de pas très pertinant pour nous. Corrigeons cela avec la fonction `__str () __`."
   ]
  },
  {
   "cell_type": "code",
   "execution_count": 57,
   "metadata": {
    "colab": {},
    "colab_type": "code",
    "id": "N1_RDVo9Ruhf"
   },
   "outputs": [],
   "source": [
    "# Création de la classe\n",
    "class Pet(object):\n",
    "    \"\"\"Class object for a pet.\"\"\"\n",
    "  \n",
    "    def __init__(self, species, name):\n",
    "        \"\"\"Initialize a Pet.\"\"\"\n",
    "        self.species = species\n",
    "        self.name = name\n",
    " \n",
    "    def __str__(self):\n",
    "        \"\"\"Output when printing an instance of a Pet.\"\"\"\n",
    "        return f\"{self.species} named {self.name}\""
   ]
  },
  {
   "cell_type": "code",
   "execution_count": 58,
   "metadata": {
    "colab": {
     "base_uri": "https://localhost:8080/",
     "height": 52
    },
    "colab_type": "code",
    "id": "vQeU2yScSkW7",
    "outputId": "b17409b8-5a19-49d3-a5be-d786c8e39f9a"
   },
   "outputs": [
    {
     "name": "stdout",
     "output_type": "stream",
     "text": [
      "dog named Scooby\n",
      "Scooby\n"
     ]
    }
   ],
   "source": [
    "# Création d'une instance d'une classe\n",
    "my_dog = Pet(species=\"dog\", \n",
    "             name=\"Scooby\")\n",
    "print (my_dog)\n",
    "print (my_dog.name)"
   ]
  },
  {
   "cell_type": "markdown",
   "metadata": {
    "colab_type": "text",
    "id": "luB-RBMXK_rL"
   },
   "source": [
    "<div align=\"left\">\n",
    "<img src=\"https://raw.githubusercontent.com/practicalAI/images/master/images/lightbulb.gif\" width=\"45px\" align=\"left\" hspace=\"10px\">\n",
    "</div>\n",
    "\n",
    "\n",
    "Les classes peuvent être personnalisées avec des fonctions \"magic\" comme ` __str__`, pour permettre de puissantes opérations. Nous explorerons d'autres fonctions intégrées dans les notebooks suivants (comme `__iter__` et `__getitem__`), mais si vous êtes curieux, voici un [tutoriel](https://rszalski.github.io/magicmethods/) (en anglais) sur des méthodes plus \"magiques\"."
   ]
  },
  {
   "cell_type": "markdown",
   "metadata": {
    "colab_type": "text",
    "id": "LaTaBd8jSYuy"
   },
   "source": [
    "### Méthodes Objets"
   ]
  },
  {
   "cell_type": "code",
   "execution_count": 59,
   "metadata": {
    "colab": {},
    "colab_type": "code",
    "id": "Vz95DOFjSY3s"
   },
   "outputs": [],
   "source": [
    "# Création d'une classe\n",
    "class Pet(object):\n",
    "    \"\"\"Class object for a pet.\"\"\"\n",
    "  \n",
    "    def __init__(self, species, name):\n",
    "        \"\"\"Initialize a Pet.\"\"\"\n",
    "        self.species = species\n",
    "        self.name = name\n",
    " \n",
    "    def __str__(self):\n",
    "        \"\"\"Output when printing an instance of a Pet.\"\"\"\n",
    "        return f\"{self.species} named {self.name}\"\n",
    "        \n",
    "    def change_name(self, new_name):\n",
    "        \"\"\"Change the name of your Pet.\"\"\"\n",
    "        self.name = new_name"
   ]
  },
  {
   "cell_type": "code",
   "execution_count": 60,
   "metadata": {
    "colab": {
     "base_uri": "https://localhost:8080/",
     "height": 52
    },
    "colab_type": "code",
    "id": "ezQq_Fhhrqrv",
    "outputId": "c66b5949-a703-4e0e-af06-fdc2337c20e9"
   },
   "outputs": [
    {
     "name": "stdout",
     "output_type": "stream",
     "text": [
      "dog named Scooby\n",
      "Scooby\n"
     ]
    }
   ],
   "source": [
    "# Création d'une instance de classe\n",
    "my_dog = Pet(species=\"dog\", \n",
    "             name=\"Scooby\")\n",
    "print (my_dog)\n",
    "print (my_dog.name)"
   ]
  },
  {
   "cell_type": "code",
   "execution_count": 61,
   "metadata": {
    "colab": {
     "base_uri": "https://localhost:8080/",
     "height": 52
    },
    "colab_type": "code",
    "id": "qTinlRj1szc5",
    "outputId": "27ea4482-05fe-48d4-b090-b01e410042e4"
   },
   "outputs": [
    {
     "name": "stdout",
     "output_type": "stream",
     "text": [
      "dog named Scrappy\n",
      "Scrappy\n"
     ]
    }
   ],
   "source": [
    "# Utilisation de la fonction d'une classe\n",
    "my_dog.change_name(new_name=\"Scrappy\")\n",
    "print (my_dog)\n",
    "print (my_dog.name)"
   ]
  },
  {
   "cell_type": "markdown",
   "metadata": {
    "colab_type": "text",
    "id": "wRcOLRK3TlEO"
   },
   "source": [
    "### Héritage (Inheritance)"
   ]
  },
  {
   "cell_type": "markdown",
   "metadata": {
    "colab_type": "text",
    "id": "wR1lyaGwWAcR"
   },
   "source": [
    "L'héritage vous permet d'hériter de toutes les propriétés et méthodes d'une autre classe (la classe parent). Remarquez comment nous avons hérité des propriétées de la classe parent `Pet` comme les espèces et les noms en initialisant `Dog`. Nous avons également hérité de la fonction `change_name`. Mais pour la méthodes `__str__`, nous définissons notre propre version pour écraser la méthodes `__str__` de la classe `Pet`."
   ]
  },
  {
   "cell_type": "code",
   "execution_count": 62,
   "metadata": {
    "colab": {},
    "colab_type": "code",
    "id": "TaDN2qwBTm7_"
   },
   "outputs": [],
   "source": [
    "class Dog(Pet):\n",
    "    def __init__(self, species, name, breed):\n",
    "        super().__init__(species, name)\n",
    "        self.breed = breed\n",
    "    \n",
    "    def __str__(self):\n",
    "        return f\"{self.breed} named {self.name}\""
   ]
  },
  {
   "cell_type": "code",
   "execution_count": 63,
   "metadata": {
    "colab": {
     "base_uri": "https://localhost:8080/",
     "height": 35
    },
    "colab_type": "code",
    "id": "tKxWHokkT-RI",
    "outputId": "5d4f4703-cc45-42a9-faac-634734bc4122"
   },
   "outputs": [
    {
     "name": "stdout",
     "output_type": "stream",
     "text": [
      "Great Dane named Scooby\n"
     ]
    }
   ],
   "source": [
    "scooby = Dog(species=\"dog\", name=\"Scooby\", breed=\"Great Dane\")\n",
    "print (scooby)"
   ]
  },
  {
   "cell_type": "code",
   "execution_count": 64,
   "metadata": {
    "colab": {
     "base_uri": "https://localhost:8080/",
     "height": 35
    },
    "colab_type": "code",
    "id": "YLF_tw5mVFO9",
    "outputId": "3d6d61dc-0767-406c-9701-26f46729cd36"
   },
   "outputs": [
    {
     "name": "stdout",
     "output_type": "stream",
     "text": [
      "Great Dane named Scooby Doo\n"
     ]
    }
   ],
   "source": [
    "scooby.change_name('Scooby Doo')\n",
    "print (scooby)"
   ]
  },
  {
   "cell_type": "markdown",
   "metadata": {
    "colab_type": "text",
    "id": "nv5ja3dEtfJN"
   },
   "source": [
    "# Décorateurs (decorators)"
   ]
  },
  {
   "cell_type": "markdown",
   "metadata": {
    "colab_type": "text",
    "id": "8aSOSxkSw8lu"
   },
   "source": [
    "Rappelez-vous que les fonctions sont une suite d'instructions. Cependant, nous voudrons souvent ajouter des fonctionnalités avant ou après l'exécution de la fonction principale, afin d'obtenir plusieurs fonctions différentes. Au lieu d'ajouter plus de code à la fonction d'origine, nous pouvons utiliser des décorateurs !\n",
    "\n",
    "* **décorateurs** : augmentez une fonction avec un pré/post-traitement. Les décorateurs enveloppent la fonction principale et nous permettent d'opérer sur les entrées et / ou les sorties."
   ]
  },
  {
   "cell_type": "markdown",
   "metadata": {
    "colab_type": "text",
    "id": "-AdOBNG7FGJB"
   },
   "source": [
    "Supposons que nous ayons une fonction appelée `operations` qui incrémente la valeur d'entrée x de 1."
   ]
  },
  {
   "cell_type": "code",
   "execution_count": 65,
   "metadata": {
    "colab": {},
    "colab_type": "code",
    "id": "B-JYWOyP1ekZ"
   },
   "outputs": [],
   "source": [
    "def operations(x):\n",
    "    \"\"\"Basic operations.\"\"\"\n",
    "    x += 1\n",
    "    return x"
   ]
  },
  {
   "cell_type": "code",
   "execution_count": 66,
   "metadata": {
    "colab": {
     "base_uri": "https://localhost:8080/",
     "height": 35
    },
    "colab_type": "code",
    "id": "XD6oY_8C1en8",
    "outputId": "2b67a30b-692c-4b96-d181-0809fcc1b473"
   },
   "outputs": [
    {
     "data": {
      "text/plain": [
       "2"
      ]
     },
     "execution_count": 66,
     "metadata": {},
     "output_type": "execute_result"
    }
   ],
   "source": [
    "operations(x=1)"
   ]
  },
  {
   "cell_type": "markdown",
   "metadata": {
    "colab_type": "text",
    "id": "LbAeHmc91iq-"
   },
   "source": [
    "Maintenant, supposons que nous voulions incrémenter notre entrée x de 1 avant et après l'exécution de la fonction `operations` et, pour illustrer cet exemple, supposons que les incréments doivent être des étapes séparées. Voici comment nous le ferions en modifiant le code d'origine:"
   ]
  },
  {
   "cell_type": "code",
   "execution_count": 67,
   "metadata": {
    "colab": {},
    "colab_type": "code",
    "id": "_zZMfUHq7xuv"
   },
   "outputs": [],
   "source": [
    "def operations(x):\n",
    "    \"\"\"Basic operations.\"\"\"\n",
    "    x += 1 \n",
    "    x += 1\n",
    "    x += 1\n",
    "    return x"
   ]
  },
  {
   "cell_type": "code",
   "execution_count": 68,
   "metadata": {
    "colab": {
     "base_uri": "https://localhost:8080/",
     "height": 35
    },
    "colab_type": "code",
    "id": "43BhH51m73Kf",
    "outputId": "ccd308b8-09c6-4e3a-b360-afb3e49443f2"
   },
   "outputs": [
    {
     "data": {
      "text/plain": [
       "4"
      ]
     },
     "execution_count": 68,
     "metadata": {},
     "output_type": "execute_result"
    }
   ],
   "source": [
    "operations(x=1)"
   ]
  },
  {
   "cell_type": "markdown",
   "metadata": {
    "colab_type": "text",
    "id": "dIorZSTM72h-"
   },
   "source": [
    "Nous avons pu réaliser ce que nous voulions mais nous avons aussi augmenté la taille de notre fonction `operations` et si nous voulons faire la même incrémentation pour toute autre fonction, nous devons également ajouter le même code à toutes celles-ci, pas très efficace... Pour résoudre ce problème, créons un décorateur appelé `add` qui incrémente `x` de 1 avant et après l'exécution de la fonction principale `f`.\n",
    "\n",
    "La fonction décorateur accepte une fonction `f` qui est la fonction que nous souhaitons envelopper (dans notre cas, il s'agit de `operations`). La sortie du décorateur est sa fonction `wrapper` qui reçoit les arguments et les arguments nommée transmis à la fonction` f`\n",
    "\n",
    "Dans la fonction `wrapper`, nous pouvons extraire les paramètres d'entrée [ligne 5] passés à la fonction `f` et apporter les modifications souhaitées [ligne 6]. Ensuite, la fonction `f` est exécutée [ligne 7] et nous pouvons également modifier les sorties [ligne 8]. Enfin, la fonction `wrapper` retournera une ou plusieurs valeurs [ligne 9], ce que le décorateur retourne également car il renvoie `wrapper`."
   ]
  },
  {
   "cell_type": "code",
   "execution_count": 69,
   "metadata": {
    "colab": {},
    "colab_type": "code",
    "id": "6Lf7Ixrasiby"
   },
   "outputs": [],
   "source": [
    "# Decorateur\n",
    "def add(f):\n",
    "    def wrapper(*args, **kwargs):\n",
    "        \"\"\"Wrapper function for @add.\"\"\"\n",
    "        x = kwargs.pop('x')\n",
    "        x += 1 # S'exécute avant la fonction f\n",
    "        x = f(*args, **kwargs, x=x)\n",
    "        x += 1 # S'exécute avant la fonction f\n",
    "        return x\n",
    "    return wrapper"
   ]
  },
  {
   "cell_type": "markdown",
   "metadata": {
    "colab_type": "text",
    "id": "uVPWm6yfAmk9"
   },
   "source": [
    "Nous pouvons utiliser ce décorateur en l'ajoutant simplement en haut de notre fonction principale, précédé du symbole `@`."
   ]
  },
  {
   "cell_type": "code",
   "execution_count": 70,
   "metadata": {
    "colab": {},
    "colab_type": "code",
    "id": "CY2Vtxv9sih6"
   },
   "outputs": [],
   "source": [
    "@add\n",
    "def operations(x):\n",
    "    \"\"\"Basic operations.\"\"\"\n",
    "    x += 1\n",
    "    return x"
   ]
  },
  {
   "cell_type": "code",
   "execution_count": 71,
   "metadata": {
    "colab": {
     "base_uri": "https://localhost:8080/",
     "height": 35
    },
    "colab_type": "code",
    "id": "-BhmFvkJsifJ",
    "outputId": "1a6468a6-edd3-49af-863a-d95800a98e9e"
   },
   "outputs": [
    {
     "data": {
      "text/plain": [
       "4"
      ]
     },
     "execution_count": 71,
     "metadata": {},
     "output_type": "execute_result"
    }
   ],
   "source": [
    "operations(x=1)"
   ]
  },
  {
   "cell_type": "markdown",
   "metadata": {
    "colab_type": "text",
    "id": "rX4Ag4ryArQl"
   },
   "source": [
    "Supposons que nous voulions déboguer et voir quelle fonction est réellement exécutée avec `operations`."
   ]
  },
  {
   "cell_type": "code",
   "execution_count": 72,
   "metadata": {
    "colab": {
     "base_uri": "https://localhost:8080/",
     "height": 35
    },
    "colab_type": "code",
    "id": "LsDkTSz6siZG",
    "outputId": "ec975220-650e-47df-90db-2529c23ca6d0"
   },
   "outputs": [
    {
     "data": {
      "text/plain": [
       "('wrapper', 'Wrapper function for @add.')"
      ]
     },
     "execution_count": 72,
     "metadata": {},
     "output_type": "execute_result"
    }
   ],
   "source": [
    "operations.__name__, operations.__doc__"
   ]
  },
  {
   "cell_type": "markdown",
   "metadata": {
    "colab_type": "text",
    "id": "G9Rd1PrjA5d9"
   },
   "source": [
    "Le nom de la fonction et la docstring ne sont pas ce que nous recherchons, mais ils apparaissent de cette façon car la fonction `wrapper` correspond à ce qui a été exécuté. Pour résoudre ce problème, Python propose `functools.wraps`, qui contient les métadonnées de la fonction principale."
   ]
  },
  {
   "cell_type": "code",
   "execution_count": 73,
   "metadata": {
    "colab": {},
    "colab_type": "code",
    "id": "AtyQ8qb_upnc"
   },
   "outputs": [],
   "source": [
    "from functools import wraps"
   ]
  },
  {
   "cell_type": "code",
   "execution_count": 74,
   "metadata": {
    "colab": {},
    "colab_type": "code",
    "id": "ggp95rl4uuKW"
   },
   "outputs": [],
   "source": [
    "# Decorateur\n",
    "def add(f):\n",
    "    @wraps(f)\n",
    "    def wrap(*args, **kwargs):\n",
    "        \"\"\"Wrapper function for @add.\"\"\"\n",
    "        x = kwargs.pop('x') \n",
    "        x += 1\n",
    "        x = f(*args, **kwargs, x=x)\n",
    "        x += 1\n",
    "        return x\n",
    "    return wrap"
   ]
  },
  {
   "cell_type": "code",
   "execution_count": 75,
   "metadata": {
    "colab": {},
    "colab_type": "code",
    "id": "GvWdFV5XuuPn"
   },
   "outputs": [],
   "source": [
    "@add\n",
    "def operations(x):\n",
    "    \"\"\"Basic operations.\"\"\"\n",
    "    x += 1\n",
    "    return x"
   ]
  },
  {
   "cell_type": "code",
   "execution_count": 76,
   "metadata": {
    "colab": {
     "base_uri": "https://localhost:8080/",
     "height": 35
    },
    "colab_type": "code",
    "id": "90Za5Wb0uuNl",
    "outputId": "7e5229c9-2e5e-442f-f949-0d5fc9610519"
   },
   "outputs": [
    {
     "data": {
      "text/plain": [
       "('operations', 'Basic operations.')"
      ]
     },
     "execution_count": 76,
     "metadata": {},
     "output_type": "execute_result"
    }
   ],
   "source": [
    "operations.__name__, operations.__doc__"
   ]
  },
  {
   "cell_type": "markdown",
   "metadata": {
    "colab_type": "text",
    "id": "aDR_uPXHBiIR"
   },
   "source": [
    "Super ! Nous avons pu \"décorer\" notre fonction principale `operations` pour obtenir la personnalisation que nous souhaitions sans modifier réellement la fonction. Nous pouvons réutiliser notre décorateur pour d’autres fonctions nécessitant la même personnalisation !\n",
    "\n",
    "\n",
    "C’était un exemple factice pour montrer comment les décorateurs travaillent mais nous les utiliserons beaucoup pendant nos cours de Machine Learning. (Ou pas 😙)"
   ]
  },
  {
   "cell_type": "markdown",
   "metadata": {
    "colab_type": "text",
    "id": "__HvzfLUB_qK"
   },
   "source": [
    "# Callbacks"
   ]
  },
  {
   "cell_type": "markdown",
   "metadata": {
    "colab_type": "text",
    "id": "46RnJdMZCDT3"
   },
   "source": [
    "Les décorateurs permettent des opérations personnalisées avant et après l'exécution de la fonction principale, mais qu'en est-il d'entre les deux ? Supposons que nous voulions faire certaines opérations conditionnellement. Au lieu d'écrire un tas de déclarations `if` et de rendre nos fonctions volumineuses, nous pouvons utiliser des callbacks !\n",
    "\n",
    "* **callbacks** : traitement conditionnel / situationnel au sein de la fonction."
   ]
  },
  {
   "cell_type": "markdown",
   "metadata": {
    "colab_type": "text",
    "id": "_QEMtyB3FK34"
   },
   "source": [
    "Nos callbacks seront des classes ayant des fonctions avec des noms de clé qui s'exécuteront à différentes périodes au cours de l'exécution de la fonction principale. Les noms de fonction sont nomable a notre guise, mais nous devons appeler les mêmes fonctions de callback dans notre fonction principale."
   ]
  },
  {
   "cell_type": "code",
   "execution_count": 77,
   "metadata": {
    "colab": {},
    "colab_type": "code",
    "id": "YUfpcY11uplW"
   },
   "outputs": [],
   "source": [
    "# Callback\n",
    "class x_tracker(object):\n",
    "    def __init__(self, x):\n",
    "        self.history = []\n",
    "    def at_start(self, x):\n",
    "        self.history.append(x)\n",
    "    def at_end(self, x):\n",
    "        self.history.append(x)"
   ]
  },
  {
   "cell_type": "markdown",
   "metadata": {
    "colab_type": "text",
    "id": "9hphXr9hC0Us"
   },
   "source": [
    "Nous pouvons passer autant de callbacks que nous le souhaitons et, comme ils ont des fonctions bien nommées, ils seront appelés aux moments appropriés."
   ]
  },
  {
   "cell_type": "code",
   "execution_count": 78,
   "metadata": {
    "colab": {},
    "colab_type": "code",
    "id": "F3XFote_CzlA"
   },
   "outputs": [],
   "source": [
    "def operations(x, callbacks=[]):\n",
    "    \"\"\"Basic operations.\"\"\"\n",
    "    for callback in callbacks:\n",
    "        callback.at_start(x)\n",
    "    x += 1\n",
    "    for callback in callbacks:\n",
    "        callback.at_end(x)\n",
    "    return x"
   ]
  },
  {
   "cell_type": "code",
   "execution_count": 79,
   "metadata": {
    "colab": {
     "base_uri": "https://localhost:8080/",
     "height": 35
    },
    "colab_type": "code",
    "id": "d_QV5MZNDILI",
    "outputId": "7a348266-ee48-4c29-ab4c-8af741402a65"
   },
   "outputs": [
    {
     "data": {
      "text/plain": [
       "2"
      ]
     },
     "execution_count": 79,
     "metadata": {},
     "output_type": "execute_result"
    }
   ],
   "source": [
    "x = 1\n",
    "tracker = x_tracker(x=x)\n",
    "operations(x=x, callbacks=[tracker])"
   ]
  },
  {
   "cell_type": "code",
   "execution_count": 80,
   "metadata": {
    "colab": {
     "base_uri": "https://localhost:8080/",
     "height": 35
    },
    "colab_type": "code",
    "id": "j0RZ90HoDMbx",
    "outputId": "3f17d0dd-a3f7-4fc6-e9be-b46fc0be8716"
   },
   "outputs": [
    {
     "data": {
      "text/plain": [
       "[1, 2]"
      ]
     },
     "execution_count": 80,
     "metadata": {},
     "output_type": "execute_result"
    }
   ],
   "source": [
    "tracker.history"
   ]
  },
  {
   "cell_type": "markdown",
   "metadata": {
    "colab_type": "text",
    "id": "ET1f4aleDYWZ"
   },
   "source": [
    "# On mélange tout ça"
   ]
  },
  {
   "cell_type": "markdown",
   "metadata": {
    "colab_type": "text",
    "id": "V52b86DxDbux"
   },
   "source": [
    "décorateurs + callbacks = puissante personnalisation *avant*, *pendant* et *après* l’exécution de la fonction principale sans en augmenter la complexité.\n",
    "\n",
    "<div align=\"left\">\n",
    "<img src=\"https://raw.githubusercontent.com/practicalAI/images/master/images/01_Python/decorators.png\" width=\"350\">\n",
    "</div>"
   ]
  },
  {
   "cell_type": "code",
   "execution_count": 81,
   "metadata": {
    "colab": {},
    "colab_type": "code",
    "id": "BEeYY6QHEsE-"
   },
   "outputs": [],
   "source": [
    "from functools import wraps"
   ]
  },
  {
   "cell_type": "code",
   "execution_count": 82,
   "metadata": {
    "colab": {},
    "colab_type": "code",
    "id": "NPcjeVOkEsLC"
   },
   "outputs": [],
   "source": [
    "# Decorateur\n",
    "def add(f):\n",
    "    @wraps(f)\n",
    "    def wrap(*args, **kwargs):\n",
    "        \"\"\"Wrapper function for @add.\"\"\"\n",
    "        x = kwargs.pop('x') # .get() if not altering x\n",
    "        x += 1 # S'exécute avant la fonction f\n",
    "        x = f(*args, **kwargs, x=x)\n",
    "        # Peut aussi exécuter du code après la fonction f\n",
    "        return x\n",
    "    return wrap"
   ]
  },
  {
   "cell_type": "code",
   "execution_count": 83,
   "metadata": {
    "colab": {},
    "colab_type": "code",
    "id": "rBPVInWfEsIk"
   },
   "outputs": [],
   "source": [
    "# Callback\n",
    "class x_tracker(object):\n",
    "    def __init__(self, x):\n",
    "        self.history = [x]\n",
    "    def at_start(self, x):\n",
    "        self.history.append(x)\n",
    "    def at_end(self, x):\n",
    "        self.history.append(x)"
   ]
  },
  {
   "cell_type": "code",
   "execution_count": 84,
   "metadata": {
    "colab": {},
    "colab_type": "code",
    "id": "Px0vMT9gFcyp"
   },
   "outputs": [],
   "source": [
    "# Fonction principal\n",
    "@add\n",
    "def operations(x, callbacks=[]):\n",
    "    \"\"\"Basic operations.\"\"\"\n",
    "    for callback in callbacks:\n",
    "        callback.at_start(x)\n",
    "    x += 1\n",
    "    for callback in callbacks:\n",
    "        callback.at_end(x)\n",
    "    return x"
   ]
  },
  {
   "cell_type": "code",
   "execution_count": 85,
   "metadata": {
    "colab": {
     "base_uri": "https://localhost:8080/",
     "height": 35
    },
    "colab_type": "code",
    "id": "0AhGDNPWFc4i",
    "outputId": "1ff668c7-cdcd-40e4-ad3b-846ef2dcebdc"
   },
   "outputs": [
    {
     "data": {
      "text/plain": [
       "3"
      ]
     },
     "execution_count": 85,
     "metadata": {},
     "output_type": "execute_result"
    }
   ],
   "source": [
    "x = 1\n",
    "tracker = x_tracker(x=x)\n",
    "operations(x=x, callbacks=[tracker])"
   ]
  },
  {
   "cell_type": "code",
   "execution_count": 86,
   "metadata": {
    "colab": {
     "base_uri": "https://localhost:8080/",
     "height": 35
    },
    "colab_type": "code",
    "id": "ajyUN2y0Fc2E",
    "outputId": "bdb16590-a3c4-469e-eab8-f7c5b7344e16"
   },
   "outputs": [
    {
     "data": {
      "text/plain": [
       "[1, 2, 3]"
      ]
     },
     "execution_count": 86,
     "metadata": {},
     "output_type": "execute_result"
    }
   ],
   "source": [
    "tracker.history"
   ]
  },
  {
   "cell_type": "markdown",
   "metadata": {
    "colab_type": "text",
    "id": "kiWtd0aJtNtY"
   },
   "source": [
    "# Ressources supplémentaires"
   ]
  },
  {
   "cell_type": "markdown",
   "metadata": {
    "colab_type": "text",
    "id": "cfLF4ktmtSC3"
   },
   "source": [
    "* ** Python 3 **: C’était un rapide coup d’œil à Python, mais c’est suffisant pour un apprentissage en machine learning et nous en apprendrons plus dans les leçons à venir. Si vous voulez en savoir plus, consultez ce [cours gratuit de Python3](https://www.w3schools.com/python/default.asp)."
   ]
  }
 ],
 "metadata": {
  "colab": {
   "collapsed_sections": [],
   "name": "01_Python",
   "provenance": [],
   "toc_visible": true
  },
  "kernelspec": {
   "display_name": "Python 3",
   "language": "python",
   "name": "python3"
  },
  "language_info": {
   "codemirror_mode": {
    "name": "ipython",
    "version": 3
   },
   "file_extension": ".py",
   "mimetype": "text/x-python",
   "name": "python",
   "nbconvert_exporter": "python",
   "pygments_lexer": "ipython3",
   "version": "3.7.4"
  }
 },
 "nbformat": 4,
 "nbformat_minor": 1
}
